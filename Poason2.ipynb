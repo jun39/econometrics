{
 "cells": [
  {
   "cell_type": "code",
   "execution_count": 1,
   "id": "c2eccc57",
   "metadata": {},
   "outputs": [],
   "source": [
    "import pandas as pd\n",
    "import numpy as np\n",
    "import math\n",
    "from scipy import stats\n",
    "import seaborn as sns\n",
    "import matplotlib.pyplot as plt\n",
    "import matplotlib.mlab as mlab"
   ]
  },
  {
   "cell_type": "code",
   "execution_count": 2,
   "id": "f4f666ec",
   "metadata": {},
   "outputs": [
    {
     "name": "stdout",
     "output_type": "stream",
     "text": [
      "30\n"
     ]
    },
    {
     "data": {
      "text/plain": [
       "(array([4., 2., 0., 6., 5., 0., 6., 3., 1., 2., 0., 0., 0., 1.]),\n",
       " array([ 85.        ,  87.64285714,  90.28571429,  92.92857143,\n",
       "         95.57142857,  98.21428571, 100.85714286, 103.5       ,\n",
       "        106.14285714, 108.78571429, 111.42857143, 114.07142857,\n",
       "        116.71428571, 119.35714286, 122.        ]),\n",
       " <a list of 14 Patch objects>)"
      ]
     },
     "execution_count": 2,
     "metadata": {},
     "output_type": "execute_result"
    },
    {
     "data": {
      "image/png": "[encoded data removed]",
      "text/plain": [
       "<Figure size 432x288 with 1 Axes>"
      ]
     },
     "metadata": {
      "needs_background": "light"
     },
     "output_type": "display_data"
    }
   ],
   "source": [
    "# １時間あたり平均lamda回クリックされるウェブ広告のポアソン分布に従う試行データをtrial時間取得する\n",
    "# 母分散はλであることは既知とする。\n",
    "lamda=100\n",
    "trial=30\n",
    "x = np.random.poisson(lamda,trial)\n",
    "print(x.size)\n",
    "plt.hist(x, 14)"
   ]
  },
  {
   "cell_type": "code",
   "execution_count": 3,
   "id": "51eee565",
   "metadata": {},
   "outputs": [
    {
     "name": "stdout",
     "output_type": "stream",
     "text": [
      "98.03333333333333\n"
     ]
    }
   ],
   "source": [
    "print(np.mean(x))"
   ]
  },
  {
   "cell_type": "code",
   "execution_count": null,
   "id": "4c1e43e0",
   "metadata": {},
   "outputs": [],
   "source": []
  },
  {
   "cell_type": "code",
   "execution_count": 4,
   "id": "80b9afa8",
   "metadata": {},
   "outputs": [],
   "source": [
    "# 事前の無情報のガンマ分布を更新\n",
    "### パラメータを与えた時のガンマ分布を描画する\n",
    "alpha = 0.5 # ガンマ分布のパラメータα shapeパラメータkでもある\n",
    "beta = 0 # ガンマ分布のパラメータβ Scaleパラメータθ=1/β\n",
    "\n",
    "# 事後分布a b\n",
    "alpha_post=np.mean(x)*trial+alpha\n",
    "beta_post=trial+beta"
   ]
  },
  {
   "cell_type": "code",
   "execution_count": 5,
   "id": "19250679",
   "metadata": {},
   "outputs": [
    {
     "data": {
      "image/png": "[encoded data removed]",
      "text/plain": [
       "<Figure size 432x288 with 1 Axes>"
      ]
     },
     "metadata": {
      "needs_background": "light"
     },
     "output_type": "display_data"
    }
   ],
   "source": [
    "# 確率密度関数 ベイズ更新後の\n",
    "from scipy.stats import gamma\n",
    "import matplotlib.pyplot as plt\n",
    "fig, ax = plt.subplots(1, 1)\n",
    "a = alpha_post\n",
    "x_bayes = np.linspace(gamma.ppf(0.01, a ,loc=0, scale=1/beta_post),\n",
    "                gamma.ppf(0.99, a ,loc=0, scale=1/beta_post), 100)\n",
    "ax.plot(x_bayes, gamma.pdf(x_bayes, a,loc=0,scale=1/beta_post),\n",
    "       'r-', lw=5, alpha=0.6, label='gamma pdf')\n",
    "\n",
    "plt.show()"
   ]
  },
  {
   "cell_type": "code",
   "execution_count": 6,
   "id": "3cd99e09",
   "metadata": {},
   "outputs": [
    {
     "name": "stdout",
     "output_type": "stream",
     "text": [
      "-1.0771876964268277\n"
     ]
    }
   ],
   "source": [
    "# ポアソン分布の母数の標準正規化での、非ベイズ検定\n",
    "z=(np.mean(x)-lamda)/math.sqrt(lamda/trial)\n",
    "print(z)"
   ]
  },
  {
   "cell_type": "code",
   "execution_count": 7,
   "id": "04bdaa18",
   "metadata": {},
   "outputs": [
    {
     "data": {
      "text/plain": [
       "array([ 94.14827385, 102.13472745])"
      ]
     },
     "execution_count": 7,
     "metadata": {},
     "output_type": "execute_result"
    }
   ],
   "source": [
    "import pymc3\n",
    "pymc3.stats.hpd(x_bayes)"
   ]
  },
  {
   "cell_type": "code",
   "execution_count": 8,
   "id": "6462d636",
   "metadata": {},
   "outputs": [
    {
     "name": "stdout",
     "output_type": "stream",
     "text": [
      "94.45487929096625\n",
      "101.61178737570042\n"
     ]
    }
   ],
   "source": [
    "# ベイズではない信頼区間\n",
    "left = (np.mean(x))-1.96*math.sqrt(lamda/trial)\n",
    "right=(np.mean(x))+1.96*math.sqrt(lamda/trial)\n",
    "print(left)\n",
    "print(right)"
   ]
  },
  {
   "cell_type": "code",
   "execution_count": 9,
   "id": "ae6b78d2",
   "metadata": {},
   "outputs": [
    {
     "name": "stdout",
     "output_type": "stream",
     "text": [
      "[ 96  96 108  97  94  86 102  95  94 106 104 105  85  94 110 122  90 103\n",
      " 102 110  96  93 102  97  89  85  85 101 101  93]\n"
     ]
    }
   ],
   "source": [
    "print(x)"
   ]
  }
 ],
 "metadata": {
  "kernelspec": {
   "display_name": "Python 3",
   "language": "python",
   "name": "python3"
  },
  "language_info": {
   "codemirror_mode": {
    "name": "ipython",
    "version": 3
   },
   "file_extension": ".py",
   "mimetype": "text/x-python",
   "name": "python",
   "nbconvert_exporter": "python",
   "pygments_lexer": "ipython3",
   "version": "3.7.11"
  }
 },
 "nbformat": 4,
 "nbformat_minor": 5
}
