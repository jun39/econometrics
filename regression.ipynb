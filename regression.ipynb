{
 "cells": [
  {
   "cell_type": "code",
   "execution_count": 2,
   "id": "1225d8ac",
   "metadata": {},
   "outputs": [
    {
     "data": {
      "text/html": [
       "<div>\n",
       "<style scoped>\n",
       "    .dataframe tbody tr th:only-of-type {\n",
       "        vertical-align: middle;\n",
       "    }\n",
       "\n",
       "    .dataframe tbody tr th {\n",
       "        vertical-align: top;\n",
       "    }\n",
       "\n",
       "    .dataframe thead th {\n",
       "        text-align: right;\n",
       "    }\n",
       "</style>\n",
       "<table border=\"1\" class=\"dataframe\">\n",
       "  <thead>\n",
       "    <tr style=\"text-align: right;\">\n",
       "      <th></th>\n",
       "      <th>日付け</th>\n",
       "      <th>終値</th>\n",
       "      <th>始値</th>\n",
       "      <th>高値</th>\n",
       "      <th>安値</th>\n",
       "      <th>出来高</th>\n",
       "      <th>前日比%</th>\n",
       "    </tr>\n",
       "  </thead>\n",
       "  <tbody>\n",
       "    <tr>\n",
       "      <th>0</th>\n",
       "      <td>2021年6月3日</td>\n",
       "      <td>1958.70</td>\n",
       "      <td>1942.79</td>\n",
       "      <td>1,966.09</td>\n",
       "      <td>1,942.79</td>\n",
       "      <td>1.09B</td>\n",
       "      <td>0.84%</td>\n",
       "    </tr>\n",
       "    <tr>\n",
       "      <th>1</th>\n",
       "      <td>2021年6月2日</td>\n",
       "      <td>1942.33</td>\n",
       "      <td>1930.06</td>\n",
       "      <td>1,946.67</td>\n",
       "      <td>1,916.84</td>\n",
       "      <td>1.25B</td>\n",
       "      <td>0.84%</td>\n",
       "    </tr>\n",
       "    <tr>\n",
       "      <th>2</th>\n",
       "      <td>2021年6月1日</td>\n",
       "      <td>1926.18</td>\n",
       "      <td>1930.74</td>\n",
       "      <td>1,933.59</td>\n",
       "      <td>1,912.61</td>\n",
       "      <td>907.47M</td>\n",
       "      <td>0.17%</td>\n",
       "    </tr>\n",
       "    <tr>\n",
       "      <th>3</th>\n",
       "      <td>2021年5月31日</td>\n",
       "      <td>1922.98</td>\n",
       "      <td>1940.13</td>\n",
       "      <td>1,944.94</td>\n",
       "      <td>1,919.78</td>\n",
       "      <td>1.02B</td>\n",
       "      <td>-1.26%</td>\n",
       "    </tr>\n",
       "    <tr>\n",
       "      <th>4</th>\n",
       "      <td>2021年5月28日</td>\n",
       "      <td>1947.44</td>\n",
       "      <td>1933.86</td>\n",
       "      <td>1,949.28</td>\n",
       "      <td>1,933.86</td>\n",
       "      <td>1.36B</td>\n",
       "      <td>1.91%</td>\n",
       "    </tr>\n",
       "  </tbody>\n",
       "</table>\n",
       "</div>"
      ],
      "text/plain": [
       "          日付け       終値       始値        高値        安値      出来高    前日比%\n",
       "0   2021年6月3日  1958.70  1942.79  1,966.09  1,942.79    1.09B   0.84%\n",
       "1   2021年6月2日  1942.33  1930.06  1,946.67  1,916.84    1.25B   0.84%\n",
       "2   2021年6月1日  1926.18  1930.74  1,933.59  1,912.61  907.47M   0.17%\n",
       "3  2021年5月31日  1922.98  1940.13  1,944.94  1,919.78    1.02B  -1.26%\n",
       "4  2021年5月28日  1947.44  1933.86  1,949.28  1,933.86    1.36B   1.91%"
      ]
     },
     "execution_count": 2,
     "metadata": {},
     "output_type": "execute_result"
    }
   ],
   "source": [
    "import pandas as pd\n",
    "df = pd.read_csv('TOPIX 過去データ.csv')\n",
    "df['終値'] = df['終値'].str.replace(',', '')\n",
    "df['始値'] = df['始値'].str.replace(',', '')\n",
    "\n",
    "df['終値'] = df['終値'].astype(float)\n",
    "df['始値'] = df['始値'].astype(float)\n",
    "\n",
    "df.head()"
   ]
  },
  {
   "cell_type": "code",
   "execution_count": 3,
   "id": "a5b907af",
   "metadata": {},
   "outputs": [],
   "source": [
    "# 6月2日~2月2日まで終値をとりだす\n",
    "x= df.iloc[1:82,1]\n",
    "# 6月3日~2月3日まで始値をとりだす\n",
    "y =df.iloc[0:81,2]"
   ]
  },
  {
   "cell_type": "code",
   "execution_count": 4,
   "id": "bede6366",
   "metadata": {},
   "outputs": [
    {
     "data": {
      "text/plain": [
       "77    1923.95\n",
       "78    1890.95\n",
       "79    1865.12\n",
       "80    1871.09\n",
       "81    1847.02\n",
       "Name: 終値, dtype: float64"
      ]
     },
     "execution_count": 4,
     "metadata": {},
     "output_type": "execute_result"
    }
   ],
   "source": [
    "x.tail()\n"
   ]
  },
  {
   "cell_type": "code",
   "execution_count": 5,
   "id": "f40bb591",
   "metadata": {},
   "outputs": [],
   "source": [
    "from sklearn.linear_model import LinearRegression\n",
    "import matplotlib.pyplot as plt\n",
    "import seaborn as sns"
   ]
  },
  {
   "cell_type": "code",
   "execution_count": 6,
   "id": "b6ef365f",
   "metadata": {},
   "outputs": [
    {
     "data": {
      "image/png": "[encoded data removed]",
      "text/plain": [
       "<Figure size 432x288 with 1 Axes>"
      ]
     },
     "metadata": {
      "needs_background": "light"
     },
     "output_type": "display_data"
    }
   ],
   "source": [
    "plt.plot(x, y, 'o')\n",
    "plt.show()"
   ]
  },
  {
   "cell_type": "code",
   "execution_count": 7,
   "id": "445fecdc",
   "metadata": {},
   "outputs": [
    {
     "data": {
      "text/plain": [
       "LinearRegression()"
      ]
     },
     "execution_count": 7,
     "metadata": {},
     "output_type": "execute_result"
    }
   ],
   "source": [
    "# モデルをフィットさせる\n",
    "x=x.values.reshape(-1, 1)\n",
    "y=y.values.reshape(-1, 1)\n",
    "\n",
    "model_lr = LinearRegression()\n",
    "model_lr.fit(x, y)"
   ]
  },
  {
   "cell_type": "code",
   "execution_count": 8,
   "id": "9931bd97",
   "metadata": {},
   "outputs": [
    {
     "name": "stdout",
     "output_type": "stream",
     "text": [
      "[[0.90984049]] [176.50585519]\n"
     ]
    }
   ],
   "source": [
    "print(model_lr.coef_, model_lr.intercept_)"
   ]
  },
  {
   "cell_type": "code",
   "execution_count": 9,
   "id": "ab99e72c",
   "metadata": {},
   "outputs": [
    {
     "name": "stdout",
     "output_type": "stream",
     "text": [
      "                            OLS Regression Results                            \n",
      "==============================================================================\n",
      "Dep. Variable:                      y   R-squared:                       0.894\n",
      "Model:                            OLS   Adj. R-squared:                  0.893\n",
      "Method:                 Least Squares   F-statistic:                     665.7\n",
      "Date:                Wed, 04 Aug 2021   Prob (F-statistic):           3.08e-40\n",
      "Time:                        23:15:37   Log-Likelihood:                -311.37\n",
      "No. Observations:                  81   AIC:                             626.7\n",
      "Df Residuals:                      79   BIC:                             631.5\n",
      "Df Model:                           1                                         \n",
      "Covariance Type:            nonrobust                                         \n",
      "==============================================================================\n",
      "                 coef    std err          t      P>|t|      [0.025      0.975]\n",
      "------------------------------------------------------------------------------\n",
      "const        176.5059     68.082      2.593      0.011      40.992     312.020\n",
      "x1             0.9098      0.035     25.801      0.000       0.840       0.980\n",
      "==============================================================================\n",
      "Omnibus:                        1.058   Durbin-Watson:                   2.206\n",
      "Prob(Omnibus):                  0.589   Jarque-Bera (JB):                1.046\n",
      "Skew:                          -0.263   Prob(JB):                        0.593\n",
      "Kurtosis:                       2.818   Cond. No.                     1.03e+05\n",
      "==============================================================================\n",
      "\n",
      "Notes:\n",
      "[1] Standard Errors assume that the covariance matrix of the errors is correctly specified.\n",
      "[2] The condition number is large, 1.03e+05. This might indicate that there are\n",
      "strong multicollinearity or other numerical problems.\n"
     ]
    }
   ],
   "source": [
    "import statsmodels.api as sm\n",
    "\n",
    "x_list=list(x)\n",
    "y_list=list(y)\n",
    "\n",
    "x_add_const = sm.add_constant(x_list)\n",
    "model_sm = sm.OLS(y_list, x_add_const).fit()\n",
    "print(model_sm.summary())"
   ]
  },
  {
   "cell_type": "code",
   "execution_count": 10,
   "id": "a6f81569",
   "metadata": {},
   "outputs": [
    {
     "data": {
      "image/png": "[encoded data removed]",
      "text/plain": [
       "<Figure size 432x288 with 1 Axes>"
      ]
     },
     "metadata": {
      "needs_background": "light"
     },
     "output_type": "display_data"
    }
   ],
   "source": [
    "plt.plot(x, 0.9098*x+176.5059)\n",
    "plt.plot(x, y, 'o')\n",
    "plt.show()"
   ]
  },
  {
   "cell_type": "code",
   "execution_count": null,
   "id": "4167bd94",
   "metadata": {},
   "outputs": [],
   "source": []
  }
 ],
 "metadata": {
  "kernelspec": {
   "display_name": "Python 3",
   "language": "python",
   "name": "python3"
  },
  "language_info": {
   "codemirror_mode": {
    "name": "ipython",
    "version": 3
   },
   "file_extension": ".py",
   "mimetype": "text/x-python",
   "name": "python",
   "nbconvert_exporter": "python",
   "pygments_lexer": "ipython3",
   "version": "3.7.11"
  }
 },
 "nbformat": 4,
 "nbformat_minor": 5
}
